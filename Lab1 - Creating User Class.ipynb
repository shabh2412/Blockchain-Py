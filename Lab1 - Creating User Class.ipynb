{
 "cells": [
  {
   "cell_type": "code",
   "execution_count": 1,
   "metadata": {},
   "outputs": [],
   "source": [
    "#You need to use pycryptodome, since crypto has been deprecated\n",
    "# Uncomment ANY ONE of the below codes so that you get the working module of crypto.\n",
    "# !conda install -c anaconda pycryptodomex --y\n",
    "# OR\n",
    "#!conda install pycrypto --y"
   ]
  },
  {
   "cell_type": "code",
   "execution_count": 2,
   "metadata": {},
   "outputs": [],
   "source": [
    "import string\n",
    "import binascii\n",
    "import Crypto\n",
    "import Crypto.Random\n",
    "from Crypto.PublicKey import RSA\n",
    "from Crypto.Signature import PKCS1_v1_5"
   ]
  },
  {
   "cell_type": "code",
   "execution_count": 3,
   "metadata": {},
   "outputs": [],
   "source": [
    "class User:\n",
    "    def __init__(user):\n",
    "        random = Crypto.Random.new().read\n",
    "        user._private_key = RSA.generate(1024,random)\n",
    "        user._public_key = user._private_key.publickey()\n",
    "        user._signer = PKCS1_v1_5.new(user._private_key)\n",
    "        \n",
    "        \n",
    "    @property\n",
    "    def identity(user):\n",
    "        idnty = binascii.hexlify(user._public_key.exportKey(format='DER')).decode('ascii')\n",
    "        return idnty"
   ]
  },
  {
   "cell_type": "code",
   "execution_count": 4,
   "metadata": {},
   "outputs": [],
   "source": [
    "rishabh = User()"
   ]
  },
  {
   "cell_type": "code",
   "execution_count": 5,
   "metadata": {},
   "outputs": [
    {
     "name": "stdout",
     "output_type": "stream",
     "text": [
      "30819f300d06092a864886f70d010101050003818d0030818902818100b07ae02f6635adc1a12e8acf2cc671d187754136fdcaa412e2a2e6b522e02a0989de13a226d3aeb6c8afdf360c676245745628bec0e7e2a46de8f718b5050e4e3fe75a55875705a05eb1611d44f92f2339e82a4f1555756fe21e3df957325d5f40ab110187117725fdf61af2a7ad6232b14ac317edbcc194e78c250a23b5fb250203010001\n"
     ]
    }
   ],
   "source": [
    "print(rishabh.identity)"
   ]
  },
  {
   "cell_type": "code",
   "execution_count": null,
   "metadata": {},
   "outputs": [],
   "source": []
  },
  {
   "cell_type": "code",
   "execution_count": null,
   "metadata": {},
   "outputs": [],
   "source": []
  }
 ],
 "metadata": {
  "kernelspec": {
   "display_name": "Python 3",
   "language": "python",
   "name": "python3"
  },
  "language_info": {
   "codemirror_mode": {
    "name": "ipython",
    "version": 3
   },
   "file_extension": ".py",
   "mimetype": "text/x-python",
   "name": "python",
   "nbconvert_exporter": "python",
   "pygments_lexer": "ipython3",
   "version": "3.8.1"
  },
  "varInspector": {
   "cols": {
    "lenName": 16,
    "lenType": 16,
    "lenVar": 40
   },
   "kernels_config": {
    "python": {
     "delete_cmd_postfix": "",
     "delete_cmd_prefix": "del ",
     "library": "var_list.py",
     "varRefreshCmd": "print(var_dic_list())"
    },
    "r": {
     "delete_cmd_postfix": ") ",
     "delete_cmd_prefix": "rm(",
     "library": "var_list.r",
     "varRefreshCmd": "cat(var_dic_list()) "
    }
   },
   "types_to_exclude": [
    "module",
    "function",
    "builtin_function_or_method",
    "instance",
    "_Feature"
   ],
   "window_display": false
  }
 },
 "nbformat": 4,
 "nbformat_minor": 4
}
